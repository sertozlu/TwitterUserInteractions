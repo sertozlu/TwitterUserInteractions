{
 "cells": [
  {
   "cell_type": "code",
   "execution_count": null,
   "metadata": {},
   "outputs": [],
   "source": [
    "import numpy as np\n",
    "import pandas as pd"
   ]
  },
  {
   "cell_type": "code",
   "execution_count": null,
   "metadata": {},
   "outputs": [],
   "source": [
    "# path to collected twitter data and specified files with \"trend\" prefix\n",
    "path = './twitter_data'\n",
    "trend = '???'"
   ]
  },
  {
   "cell_type": "code",
   "execution_count": null,
   "metadata": {},
   "outputs": [],
   "source": [
    "user_data_org = pd.read_csv(f'{path}/{trend}_user_data.csv')\n",
    "user_data_org.info()"
   ]
  },
  {
   "cell_type": "code",
   "execution_count": null,
   "metadata": {},
   "outputs": [],
   "source": [
    "user_data_org.head(2)"
   ]
  },
  {
   "cell_type": "code",
   "execution_count": null,
   "metadata": {},
   "outputs": [],
   "source": [
    "user_data_org.drop_duplicates()\n",
    "user_data = user_data_org.filter(['user_id','user_screen_name','followers_count', 'friends_count','user_verified'])\n",
    "user_data.head(2)"
   ]
  },
  {
   "cell_type": "code",
   "execution_count": null,
   "metadata": {},
   "outputs": [],
   "source": [
    "# simple algorithm to assign weights (size) to nodes based on number of friends/followers\n",
    "def calc_weight(row):\n",
    "    weight = 50\n",
    "    if row['user_verified']:\n",
    "        weight += 100\n",
    "    \n",
    "    #followers_count impact\n",
    "    if row['followers_count'] < 50: weight = weight\n",
    "    elif row['followers_count'] < 100: weight = weight + 25\n",
    "    elif row['followers_count'] < 500: weight = weight + 50\n",
    "    elif row['followers_count'] < 1000: weight = weight + 75\n",
    "    else: weight = weight + 100\n",
    "    \n",
    "    #friends_count impact\n",
    "    if row['friends_count'] < 25: weight = weight\n",
    "    elif row['friends_count'] < 100: weight = weight + 50\n",
    "    elif row['friends_count'] < 500: weight = weight + 100\n",
    "    elif row['friends_count'] < 1000: weight = weight + 150\n",
    "    else: weight = weight + 200\n",
    "    \n",
    "    return weight"
   ]
  },
  {
   "cell_type": "code",
   "execution_count": null,
   "metadata": {},
   "outputs": [],
   "source": [
    "user_data['size'] = user_data.apply(lambda row: calc_weight(row), axis=1)\n",
    "user_data.tail(2)"
   ]
  },
  {
   "cell_type": "code",
   "execution_count": null,
   "metadata": {},
   "outputs": [],
   "source": [
    "# pick node (user_name) and size for nodes list\n",
    "node_list_1 = user_data.drop(['user_id','followers_count','friends_count','user_verified'], axis=1)\n",
    "node_list_1.rename({'user_screen_name':'name'}, axis=1, inplace=True)\n",
    "node_list_1.head(2)                            "
   ]
  },
  {
   "cell_type": "code",
   "execution_count": null,
   "metadata": {},
   "outputs": [],
   "source": [
    "tweet_data_org = pd.read_csv(f'{path}/{trend}_tweets.csv')\n",
    "tweet_data_org.info()"
   ]
  },
  {
   "cell_type": "code",
   "execution_count": null,
   "metadata": {},
   "outputs": [],
   "source": [
    "tweet_data_org.drop_duplicates()\n",
    "tweet_data_org.head(2)"
   ]
  },
  {
   "cell_type": "code",
   "execution_count": null,
   "metadata": {},
   "outputs": [],
   "source": [
    "if 'user_screen_name' in tweet_data_org.columns:\n",
    "    tweet_data = tweet_data_org.filter(['tweet_id','in_reply_to_name','user_mentions_name','user_id','user_screen_name'])\n",
    "else:\n",
    "    tweet_data = tweet_data_org.filter(['tweet_id','in_reply_to_name','user_mentions_name','user_id'])\n",
    "    if tweet_data.shape[0] == user_data.shape[0]:\n",
    "        tweet_data['user_screen_name'] = user_data['user_screen_name']\n",
    "    else:\n",
    "        print(\"Unmatched dimension\")\n",
    "tweet_data.tail(2)"
   ]
  },
  {
   "cell_type": "code",
   "execution_count": null,
   "metadata": {},
   "outputs": [],
   "source": [
    "# Filter all rows in which in_reply_to_name or user_mentions_name are not both NaN\n",
    "tweet_data.dropna(thresh=4, inplace=True)\n",
    "tweet_data.head(2)"
   ]
  },
  {
   "cell_type": "code",
   "execution_count": null,
   "metadata": {},
   "outputs": [],
   "source": [
    "# simple algorithm to assign weights to interactions (edge) based on mentions/replies to tweets\n",
    "def check_mentions_replies(row):\n",
    "    weight = 0\n",
    "    \n",
    "    # user_mentions impact\n",
    "    if (not pd.isna(row.user_mentions_name)) and (row.user_mentions_name != row.user_screen_name):\n",
    "        weight += 15\n",
    "    if (not pd.isna(row.in_reply_to_name)) and (row.in_reply_to_name != row.user_screen_name) and (row.in_reply_to_name != row.user_mentions_name):\n",
    "        weight += 15\n",
    "    \n",
    "    return weight"
   ]
  },
  {
   "cell_type": "code",
   "execution_count": null,
   "metadata": {},
   "outputs": [],
   "source": [
    "tweet_data['weight'] = tweet_data.apply (lambda row: check_mentions_replies(row), axis=1)\n",
    "tweet_data.head(2)"
   ]
  },
  {
   "cell_type": "code",
   "execution_count": null,
   "metadata": {},
   "outputs": [],
   "source": [
    "tweet_data['edge'] = tweet_data.apply (lambda row: (row.user_screen_name, row.user_mentions_name) if not pd.isna(row.user_mentions_name) else (row.user_screen_name, row.in_reply_to_name), axis=1)\n",
    "tweet_data.head(2)"
   ]
  },
  {
   "cell_type": "code",
   "execution_count": null,
   "metadata": {},
   "outputs": [],
   "source": [
    "# pick edge (user_name pair) and related weight\n",
    "edge_data_1 = tweet_data.filter(['edge','weight'])\n",
    "edge_data_1 = edge_data_1[edge_data_1['weight'] > 0]\n",
    "edge_data_1.head(2)"
   ]
  },
  {
   "cell_type": "code",
   "execution_count": null,
   "metadata": {
    "scrolled": false
   },
   "outputs": [],
   "source": [
    "retweeters_org = pd.read_csv(f'{path}/{trend}_retweeters.csv')\n",
    "retweeters_org.info()"
   ]
  },
  {
   "cell_type": "code",
   "execution_count": null,
   "metadata": {
    "scrolled": true
   },
   "outputs": [],
   "source": [
    "retweeters = retweeters_org.drop_duplicates()\n",
    "retweeters.head(2)"
   ]
  },
  {
   "cell_type": "code",
   "execution_count": null,
   "metadata": {},
   "outputs": [],
   "source": [
    "# pick retweeters as new nodes and their weight\n",
    "node_list_2 = retweeters.filter(['retweeter_name'])\n",
    "node_list_2.rename({'retweeter_name': 'name'}, axis=1, inplace=True)\n",
    "node_list_2['size'] = 50\n",
    "node_list_2.head(2)"
   ]
  },
  {
   "cell_type": "code",
   "execution_count": null,
   "metadata": {},
   "outputs": [],
   "source": [
    "retweeters['weight'] = 25\n",
    "retweeters['edge'] = retweeters.apply(lambda row:(row.orig_user_name, row.retweeter_name), axis=1)\n",
    "retweeters.tail(2)"
   ]
  },
  {
   "cell_type": "code",
   "execution_count": null,
   "metadata": {},
   "outputs": [],
   "source": [
    "# pick edge (tweeter/retweeter pair) and related weight\n",
    "edge_data_2 = retweeters.filter(['edge','weight'])\n",
    "edge_data_2 = edge_data_2[edge_data_2['weight'] > 0]\n",
    "edge_data_2.head(2)"
   ]
  },
  {
   "cell_type": "code",
   "execution_count": null,
   "metadata": {},
   "outputs": [],
   "source": [
    "friends_org = pd.read_csv(f'{path}/{trend}_friends.csv')\n",
    "friends_org.info()"
   ]
  },
  {
   "cell_type": "code",
   "execution_count": null,
   "metadata": {},
   "outputs": [],
   "source": [
    "# pick friends list as new nodes and their related weight\n",
    "friends_org.drop_duplicates(inplace=True)\n",
    "node_list_3 = friends_org.filter(['friend_name'])\n",
    "node_list_3.rename({'friend_name': 'name'}, axis=1, inplace=True)\n",
    "node_list_3['size'] = 50\n",
    "node_list_3.head(2)"
   ]
  },
  {
   "cell_type": "code",
   "execution_count": null,
   "metadata": {},
   "outputs": [],
   "source": [
    "# pick edge (tweeter/friends pair) and related weight\n",
    "friends_edges = friends_org.filter(['orig_user_name','friend_name'])\n",
    "friends_edges['weight'] = 15\n",
    "friends_edges['edge'] = friends_edges.apply(lambda row:(row.orig_user_name, row.friend_name), axis=1)\n",
    "edge_data_3 = friends_edges.filter(['edge','weight'])\n",
    "edge_data_3.tail(2)"
   ]
  },
  {
   "cell_type": "code",
   "execution_count": null,
   "metadata": {},
   "outputs": [],
   "source": [
    "followers_org = pd.read_csv(f'{path}/{trend}_followers.csv')\n",
    "followers_org.info()"
   ]
  },
  {
   "cell_type": "code",
   "execution_count": null,
   "metadata": {},
   "outputs": [],
   "source": [
    "# pick followers list as new nodes and their related weight\n",
    "followers_org.drop_duplicates(inplace=True)\n",
    "node_list_4 = followers_org.filter(['follower_name'])\n",
    "node_list_4.rename({'follower_name': 'name'}, axis=1, inplace=True)\n",
    "node_list_4['size'] = 50\n",
    "node_list_4.head(2)"
   ]
  },
  {
   "cell_type": "code",
   "execution_count": null,
   "metadata": {},
   "outputs": [],
   "source": [
    "# pick edge (tweeter/followers pair) and related weight\n",
    "followers_edges = followers_org.filter(['orig_user_name','follower_name'])\n",
    "followers_edges['weight'] = 10\n",
    "followers_edges['edge'] = followers_edges.apply(lambda row:(row.orig_user_name, row.follower_name), axis=1)\n",
    "edge_data_4 = followers_edges.filter(['edge','weight'])\n",
    "edge_data_4.tail(2)"
   ]
  },
  {
   "cell_type": "code",
   "execution_count": null,
   "metadata": {},
   "outputs": [],
   "source": [
    "node_list = pd.concat([node_list_1, node_list_2,node_list_3, node_list_4])\n",
    "node_list.info()"
   ]
  },
  {
   "cell_type": "code",
   "execution_count": null,
   "metadata": {},
   "outputs": [],
   "source": [
    "# remove duplicate nodes from list\n",
    "node_list.drop_duplicates(inplace=True)\n",
    "node_list_final = node_list.sort_values(by=['name', 'size'])\n",
    "node_list_final = node_list_final.drop_duplicates(subset=['name'], keep='last')\n",
    "node_list_final.info()"
   ]
  },
  {
   "cell_type": "code",
   "execution_count": null,
   "metadata": {},
   "outputs": [],
   "source": [
    "edge_data = pd.concat([edge_data_1,edge_data_2,edge_data_3,edge_data_4])\n",
    "edge_data.info()"
   ]
  },
  {
   "cell_type": "code",
   "execution_count": null,
   "metadata": {},
   "outputs": [],
   "source": [
    "# remove duplicate edges from list\n",
    "edge_data.drop_duplicates(inplace=True)\n",
    "edge_data_final = edge_data.sort_values(by=['edge', 'weight'])\n",
    "edge_data_final = edge_data_final.drop_duplicates(subset=['edge'], keep='last')\n",
    "edge_data_final.info()"
   ]
  },
  {
   "cell_type": "code",
   "execution_count": null,
   "metadata": {},
   "outputs": [],
   "source": [
    "# save nodes and edges lists in CSV files\n",
    "node_list_final.to_csv(f'{path}/{trend}_node_list.csv', index = False)\n",
    "edge_data_final.to_csv(f'{path}/{trend}_edge_data.csv', index = False)"
   ]
  },
  {
   "cell_type": "code",
   "execution_count": null,
   "metadata": {},
   "outputs": [],
   "source": []
  }
 ],
 "metadata": {
  "kernelspec": {
   "display_name": "Python 3",
   "language": "python",
   "name": "python3"
  },
  "language_info": {
   "codemirror_mode": {
    "name": "ipython",
    "version": 3
   },
   "file_extension": ".py",
   "mimetype": "text/x-python",
   "name": "python",
   "nbconvert_exporter": "python",
   "pygments_lexer": "ipython3",
   "version": "3.7.4"
  }
 },
 "nbformat": 4,
 "nbformat_minor": 2
}
