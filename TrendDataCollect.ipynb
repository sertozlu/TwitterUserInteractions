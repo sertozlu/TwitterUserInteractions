{
 "cells": [
  {
   "cell_type": "code",
   "execution_count": null,
   "metadata": {},
   "outputs": [],
   "source": [
    "import tweepy\n",
    "import configparser\n",
    "import csv\n",
    "import json\n",
    "import time\n",
    "import os\n",
    "import numpy as np\n",
    "import pandas as pd"
   ]
  },
  {
   "cell_type": "code",
   "execution_count": null,
   "metadata": {},
   "outputs": [],
   "source": [
    "# Twitter authentication via provided credentials\n",
    "config = configparser.ConfigParser(interpolation=None)\n",
    "config.read_file(open('./twitter_credentials.cfg'))\n",
    "\n",
    "consumer_key = config.get('TWITTER','API_KEY')\n",
    "consumer_secret = config.get('TWITTER','API_SECRET_KEY')"
   ]
  },
  {
   "cell_type": "code",
   "execution_count": null,
   "metadata": {},
   "outputs": [],
   "source": [
    "auth = tweepy.AppAuthHandler(consumer_key, consumer_secret)\n",
    "api = tweepy.API(auth, wait_on_rate_limit=True)\n",
    "\n",
    "# Path to store collected tweet and user data\n",
    "path = './twitter_data/'"
   ]
  },
  {
   "cell_type": "code",
   "execution_count": null,
   "metadata": {},
   "outputs": [],
   "source": [
    "# Helper function to handle twitter API rate limit\n",
    "def limit_handled(cursor):\n",
    "    while True:\n",
    "        try:\n",
    "            yield cursor.next()\n",
    "        except tweepy.RateLimitError as rle:\n",
    "            print(rle)\n",
    "            time.sleep(15 * 60) # 15 minutes\n",
    "        # Catch any other Twitter API exceptions\n",
    "        except tweepy.error.TweepError as te:\n",
    "            print(te)\n",
    "        except StopIteration as si:\n",
    "            print(si)\n",
    "            return"
   ]
  },
  {
   "cell_type": "code",
   "execution_count": null,
   "metadata": {},
   "outputs": [],
   "source": [
    "# Helper function to get data from a specified tweet and save it to a CSV file\n",
    "# Assumption: Twitter authorization and tweepy initialization have been done\n",
    "def get_tweet_data(tweet, path, trend_to_search):\n",
    "    #transform the tweepy tweets into a 2D array that will populate the csv\n",
    "    try:\n",
    "        tweet_data = [[tweet.id_str, tweet.created_at, tweet.text, tweet.source, tweet.favorite_count,\n",
    "                    tweet.in_reply_to_screen_name, tweet.in_reply_to_status_id_str, tweet.in_reply_to_user_id_str,\n",
    "                    status.entities[\"user_mentions\"][0][\"screen_name\"], status.entities[\"user_mentions\"][0][\"id_str\"], \n",
    "                    tweet.retweet_count, tweet.lang, tweet.user.id_str, tweet.user.screen_name\n",
    "                    ]]\n",
    "    except IndexError:\n",
    "        tweet_data = [[tweet.id_str, tweet.created_at, tweet.text, tweet.source, tweet.favorite_count,\n",
    "                    tweet.in_reply_to_screen_name, tweet.in_reply_to_status_id_str, tweet.in_reply_to_user_id_str,\n",
    "                    '', np.nan, \n",
    "                    tweet.retweet_count, tweet.lang, tweet.user.id_str, tweet.user.screen_name\n",
    "                    ]]\n",
    "\n",
    "    # write the csv\n",
    "    with open(f'{path}{trend_to_search}_tweets.csv', 'a+') as f:\n",
    "        writer = csv.writer(f)\n",
    "        if not os.path.getsize(f.name):\n",
    "            writer.writerow([\"tweet_id\",\"tweet_created_at\",\"tweet_text\",\"tweet_source\",\"likes\",\n",
    "                             \"in_reply_to_name\",\"in_reply_to_status_id\",\"in_reply_to_user_id\",\n",
    "                             \"user_mentions_name\", \"user_mentions_id\",\n",
    "                             \"retweet_cnt\",\"tweet_lang\", \"user_id\", \"user_screen_name\"\n",
    "                            ])\n",
    "        writer.writerows(tweet_data)"
   ]
  },
  {
   "cell_type": "code",
   "execution_count": null,
   "metadata": {},
   "outputs": [],
   "source": [
    "# Helper function to get info on retweeters of a tweet and save data to a CSV file\n",
    "# Assumption: Twitter authorization and tweepy initialization have been done\n",
    "def get_retweeter_data(status, path, trend_to_search):\n",
    "    #print(f'\\nid: {status.id}')\n",
    "    if (status.retweet_count > 0) and (not hasattr(status, 'retweeted_status')):  \n",
    "        retweeters_list = tweepy.Cursor(api.retweeters, id=status.id).items()\n",
    "        \n",
    "        retweeters_data = [(status.id, status.user.id_str, status.user.screen_name, \n",
    "                            api.get_user(retweeter).id_str, api.get_user(retweeter).screen_name) \n",
    "                           for retweeter in retweeters_list]\n",
    "        \n",
    "        # write the csv\n",
    "        with open(f'{path}{trend_to_search}_retweeters.csv', 'a+') as f:\n",
    "            writer = csv.writer(f)\n",
    "            if not os.path.getsize(f.name):\n",
    "                writer.writerow([\"tweet_id\",\"orig_user_id\", \"orig_user_name\", \"retweeter_id\", \"retweeter_name\"])\n",
    "            writer.writerows(retweeters_data)"
   ]
  },
  {
   "cell_type": "code",
   "execution_count": null,
   "metadata": {},
   "outputs": [],
   "source": [
    "# Below function could be used to make lookup requests for ids 100 at a time leading to 18K lookups in each 15 min window\n",
    "# Source: https://stackoverflow.com/questions/31000178/how-to-get-large-list-of-followers-tweepy\n",
    "def get_usernames(userids):\n",
    "    users = []\n",
    "    u_count = len(userids)\n",
    "    print(u_count)\n",
    "    try:\n",
    "        for i in range(int(u_count/100) + 1):            \n",
    "            end_loc = min((i + 1) * 100, u_count)\n",
    "            users.extend(api.lookup_users(user_ids=userids[i * 100:end_loc]))\n",
    "    except:\n",
    "        import traceback\n",
    "        traceback.print_exc()\n",
    "    return users"
   ]
  },
  {
   "cell_type": "code",
   "execution_count": null,
   "metadata": {},
   "outputs": [],
   "source": [
    "# Function to save followers of a specified user to a CSV file \n",
    "def get_followers(id_str, screen_name, trend_to_search):\n",
    "    # Create a list to store follower data\n",
    "    followers_id_list = []  \n",
    "    \n",
    "    # For-loop to iterate over tweepy cursors\n",
    "    cursor = tweepy.Cursor(api.followers_ids, screen_name=screen_name, count=5000).items(5000)\n",
    "    for item in limit_handled(cursor):\n",
    "        # Add latest batch of follower data to the list\n",
    "        followers_id_list.append(item)\n",
    "    \n",
    "    if not len(followers_id_list):\n",
    "        return\n",
    "        \n",
    "    #Calling the function to get users from the list of follower ids\n",
    "    followers_users = get_usernames(followers_id_list)\n",
    "\n",
    "    if not len(followers_users):\n",
    "        return\n",
    "    \n",
    "    # Extract the follower information\n",
    "    followers_list = [(id_str, screen_name, follower.id_str, follower.screen_name) for follower in followers_users]\n",
    "    \n",
    "    # write the csv\n",
    "    with open(f'{path}{trend_to_search}_followers.csv', 'a+') as f:\n",
    "        writer = csv.writer(f)\n",
    "        if not os.path.getsize(f.name):\n",
    "            writer.writerow([\"orig_user_id\", \"orig_user_name\", \"follower_id\", \"follower_name\"])\n",
    "        writer.writerows(followers_list)"
   ]
  },
  {
   "cell_type": "code",
   "execution_count": null,
   "metadata": {},
   "outputs": [],
   "source": [
    "# Function to save friends of a specified user to a CSV file\n",
    "def get_friends(id_str, screen_name, trend_to_search):\n",
    "    # Create a list to store friends data\n",
    "    friends_id_list = []  \n",
    "    \n",
    "    # For-loop to iterate over tweepy cursors\n",
    "    #cursor = tweepy.Cursor(api.friends_ids, screen_name=screen_name).pages()\n",
    "    cursor = tweepy.Cursor(api.friends_ids, screen_name=screen_name, count=5000).items(5000)\n",
    "    for item in limit_handled(cursor):\n",
    "        # Add latest batch of friend data to the list\n",
    "        friends_id_list.append(item)\n",
    "        #time.sleep(60)\n",
    "    \n",
    "    if not len(friends_id_list):\n",
    "        return\n",
    "        \n",
    "    #Calling the function to get users from the list of follower ids\n",
    "    friends_users = get_usernames(friends_id_list)\n",
    "    \n",
    "    if not len(friends_users):\n",
    "        return\n",
    "\n",
    "    # Extract the friends information\n",
    "    friends_list = [(id_str, screen_name, friend.id_str, friend.screen_name) for friend in friends_users]  \n",
    "    \n",
    "    # write the csv\n",
    "    with open(f'{path}{trend_to_search}_friends.csv', 'a+') as f:\n",
    "        writer = csv.writer(f)\n",
    "        if not os.path.getsize(f.name):\n",
    "            writer.writerow([\"orig_user_id\", \"orig_user_name\", \"friend_id\", \"friend_name\"])\n",
    "        writer.writerows(friends_list)"
   ]
  },
  {
   "cell_type": "code",
   "execution_count": null,
   "metadata": {},
   "outputs": [],
   "source": [
    "# Helper function to get info of a specified user\n",
    "# Assumption: Twitter authorization and tweepy initialization have been done\n",
    "def get_user_data(tweet, path, trend_to_search):    \n",
    "    #transform the tweepy tweets into a 2D array that will populate the csv\n",
    "    user_data = [[tweet.user.id_str, tweet.user.name, tweet.user.screen_name, tweet.user.location, \n",
    "                  tweet.user.description, tweet.user.followers_count, tweet.user.friends_count,\n",
    "                  tweet.user.created_at, tweet.user.verified]\n",
    "                 ] #for tweet in single_tweet]\n",
    "    \n",
    "    # write the csv\n",
    "    with open(f'{path}{trend_to_search}_user_data.csv', 'a+') as f:\n",
    "        writer = csv.writer(f)\n",
    "        if not os.path.getsize(f.name):\n",
    "            writer.writerow([\"user_id\", \"user_name\", \"user_screen_name\", \"user_location\",\n",
    "                             \"user_description\", \"followers_count\",\"friends_count\",\n",
    "                             \"user_created_at\",\"user_verified\"\n",
    "                            ])\n",
    "        writer.writerows(user_data)\n",
    "    get_followers(tweet.user.id_str, tweet.user.screen_name, trend_to_search)\n",
    "    get_friends(tweet.user.id_str, tweet.user.screen_name, trend_to_search)"
   ]
  },
  {
   "cell_type": "code",
   "execution_count": null,
   "metadata": {},
   "outputs": [],
   "source": [
    "# Choose a trend topic to initiate data collection\n",
    "# The response is an array of “trend” objects that encode the name of the trending topic, \n",
    "# the query parameter that can be used to search for the topic on Twitter Search, and the Twitter Search URL.\n",
    "World_WOE_ID = 1\n",
    "US_WOE_ID = 23424977\n",
    "NY_WOE_ID = 2459115\n",
    "\n",
    "TOP_TRENDS_CNT = 9\n",
    "\n",
    "trends = json.loads(json.dumps(api.trends_place(World_WOE_ID), indent=1))\n",
    "if trends:\n",
    "    for i,trend in enumerate(trends[0]['trends']):\n",
    "        if i > TOP_TRENDS_CNT: break\n",
    "        print(f'{i}: trend: {trend[\"name\"]}, Volume: {trend[\"tweet_volume\"]}')\n",
    "     \n",
    "    try:\n",
    "        choice = (int(input(f'Choose a trend (enter a number 0-{TOP_TRENDS_CNT}):')))% (TOP_TRENDS_CNT+1)\n",
    "    except Exception:\n",
    "        choice = 0\n",
    "        print(\"Illegal Value: Default value of '0' is chosen\")\n",
    "    trend_to_search = trends[0]['trends'][choice]['name']"
   ]
  },
  {
   "cell_type": "code",
   "execution_count": null,
   "metadata": {
    "scrolled": true
   },
   "outputs": [],
   "source": [
    "# Search for the chosen trend tweets and call functions to collect tweet/user data\n",
    "for status in tweepy.Cursor(api.search, q=trend_to_search).items():\n",
    "    get_tweet_data(status, path, trend_to_search)\n",
    "    get_user_data(status, path, trend_to_search)\n",
    "    get_retweeter_data(status, path, trend_to_search)"
   ]
  },
  {
   "cell_type": "code",
   "execution_count": null,
   "metadata": {},
   "outputs": [],
   "source": []
  }
 ],
 "metadata": {
  "kernelspec": {
   "display_name": "Python 3",
   "language": "python",
   "name": "python3"
  },
  "language_info": {
   "codemirror_mode": {
    "name": "ipython",
    "version": 3
   },
   "file_extension": ".py",
   "mimetype": "text/x-python",
   "name": "python",
   "nbconvert_exporter": "python",
   "pygments_lexer": "ipython3",
   "version": "3.7.4"
  }
 },
 "nbformat": 4,
 "nbformat_minor": 2
}
